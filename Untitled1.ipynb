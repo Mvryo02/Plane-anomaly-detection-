{
  "cells": [
    {
      "cell_type": "markdown",
      "metadata": {
        "colab_type": "text",
        "id": "view-in-github"
      },
      "source": [
        "<a href=\"https://colab.research.google.com/github/Mvryo02/Plane-anomaly-detection-/blob/main/Untitled1.ipynb\" target=\"_parent\"><img src=\"https://colab.research.google.com/assets/colab-badge.svg\" alt=\"Open In Colab\"/></a>"
      ]
    },
    {
      "cell_type": "markdown",
      "metadata": {
        "id": "YMngttNus_Oq"
      },
      "source": [
        "Import"
      ]
    },
    {
      "cell_type": "code",
      "execution_count": 11,
      "metadata": {
        "id": "bwYcWV-_s9cJ"
      },
      "outputs": [],
      "source": [
        "import torch\n",
        "import torch.nn as nn\n",
        "import torch.optim as optim\n",
        "import zipfile\n",
        "import os\n",
        "from torchvision import datasets, transforms\n",
        "from torch.utils.data import DataLoader, Dataset\n",
        "from PIL import Image"
      ]
    },
    {
      "cell_type": "code",
      "execution_count": 3,
      "metadata": {
        "colab": {
          "base_uri": "https://localhost:8080/"
        },
        "id": "NPYpFKCptHxJ",
        "outputId": "0efc3976-18fd-463f-d571-246688d93d11"
      },
      "outputs": [
        {
          "name": "stdout",
          "output_type": "stream",
          "text": [
            "Cloning into 'Plane-anomaly-detection-'...\n",
            "remote: Enumerating objects: 558, done.\u001b[K\n",
            "remote: Counting objects: 100% (6/6), done.\u001b[K\n",
            "remote: Compressing objects: 100% (3/3), done.\u001b[K\n",
            "remote: Total 558 (delta 1), reused 6 (delta 1), pack-reused 552 (from 1)\u001b[K\n",
            "Receiving objects: 100% (558/558), 392.44 MiB | 33.33 MiB/s, done.\n",
            "Resolving deltas: 100% (18/18), done.\n",
            "Updating files: 100% (1118/1118), done.\n"
          ]
        }
      ],
      "source": [
        "!git clone https://github.com/Mvryo02/Plane-anomaly-detection-"
      ]
    },
    {
      "cell_type": "markdown",
      "metadata": {
        "id": "FW40Q31itG9E"
      },
      "source": [
        "trasform definition"
      ]
    },
    {
      "cell_type": "code",
      "execution_count": 12,
      "metadata": {
        "id": "RfN8hqPhtWl4"
      },
      "outputs": [],
      "source": [
        "transform = transforms.Compose([\n",
        "    transforms.RandomHorizontalFlip(p=0.5),  # Flip orizzontale casuale\n",
        "    transforms.RandomRotation(15),           # Rotazione casuale di 15 gradi\n",
        "    transforms.ColorJitter(brightness=0.2, contrast=0.2, saturation=0.2, hue=0.1),  # Modifica casuale dei colori\n",
        "    transforms.ToTensor(),                    # Converte l'immagine in tensor\n",
        "    transforms.Normalize(mean=[0.485, 0.456, 0.406], std=[0.229, 0.224, 0.225])  # Normalizza l'immagine\n",
        "])"
      ]
    },
    {
      "cell_type": "markdown",
      "metadata": {
        "id": "Cq_TZNcISMU1"
      },
      "source": [
        "Dataset loading"
      ]
    },
    {
      "cell_type": "code",
      "execution_count": 13,
      "metadata": {
        "colab": {
          "base_uri": "https://localhost:8080/"
        },
        "id": "x1ail4dwSQRQ",
        "outputId": "bb5cc3ec-cd53-4580-e590-b8d4158133c4"
      },
      "outputs": [
        {
          "name": "stdout",
          "output_type": "stream",
          "text": [
            "Numero di immagini nel dataset: 553\n"
          ]
        }
      ],
      "source": [
        "os.chdir('/content/Plane-anomaly-detection-')\n",
        "dataset = datasets.ImageFolder(root='train', transform=transform)\n",
        "dataloader = DataLoader(dataset, batch_size=32, shuffle=True)\n",
        "num_elements = len(dataset)\n",
        "print(f\"Numero di immagini nel dataset: {num_elements}\")"
      ]
    },
    {
      "cell_type": "code",
      "execution_count": 1,
      "metadata": {
        "colab": {
          "base_uri": "https://localhost:8080/"
        },
        "id": "Xe1pH485WUTD",
        "outputId": "19cc6677-272b-43be-db16-73c728dbf257"
      },
      "outputs": [
        {
          "name": "stdout",
          "output_type": "stream",
          "text": [
            "On branch main\n",
            "Your branch is up to date with 'origin/main'.\n",
            "\n",
            "nothing to commit, working tree clean\n"
          ]
        }
      ],
      "source": [
        "!git status"
      ]
    },
    {
      "cell_type": "code",
      "execution_count": 2,
      "metadata": {
        "colab": {
          "base_uri": "https://localhost:8080/"
        },
        "id": "CpqJ0GacW06_",
        "outputId": "94f7b920-60d9-4a24-e83f-ee1ee689e5b4"
      },
      "outputs": [],
      "source": [
        "!git  add Untitled1.ipynb"
      ]
    },
    {
      "cell_type": "code",
      "execution_count": 4,
      "metadata": {
        "colab": {
          "base_uri": "https://localhost:8080/"
        },
        "id": "aT0AJH88YopT",
        "outputId": "fbb865b0-b7be-447e-e498-7ab259f10cc4"
      },
      "outputs": [
        {
          "name": "stdout",
          "output_type": "stream",
          "text": [
            "On branch main\n",
            "Your branch is up to date with 'origin/main'.\n",
            "\n",
            "nothing to commit, working tree clean\n"
          ]
        }
      ],
      "source": [
        "!git commit -m \"test\""
      ]
    },
    {
      "cell_type": "code",
      "execution_count": 5,
      "metadata": {},
      "outputs": [
        {
          "name": "stderr",
          "output_type": "stream",
          "text": [
            "remote: Permission to Mvryo02/Plane-anomaly-detection-.git denied to Maryo02.\n",
            "fatal: unable to access 'https://github.com/Mvryo02/Plane-anomaly-detection-.git/': The requested URL returned error: 403\n"
          ]
        }
      ],
      "source": [
        "!git push origin main"
      ]
    }
  ],
  "metadata": {
    "colab": {
      "authorship_tag": "ABX9TyPgENNe/aIIhvW/EqQR656J",
      "include_colab_link": true,
      "provenance": [],
      "toc_visible": true
    },
    "kernelspec": {
      "display_name": "Python 3",
      "name": "python3"
    },
    "language_info": {
      "name": "python"
    }
  },
  "nbformat": 4,
  "nbformat_minor": 0
}
