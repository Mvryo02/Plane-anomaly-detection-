{
  "nbformat": 4,
  "nbformat_minor": 0,
  "metadata": {
    "colab": {
      "provenance": []
    },
    "kernelspec": {
      "name": "python3",
      "display_name": "Python 3"
    },
    "language_info": {
      "name": "python"
    }
  },
  "cells": [
    {
      "cell_type": "markdown",
      "source": [
        "Import"
      ],
      "metadata": {
        "id": "0Dti-Q8v4s5h"
      }
    },
    {
      "cell_type": "code",
      "execution_count": 1,
      "metadata": {
        "id": "TFmpow7wyRdt"
      },
      "outputs": [],
      "source": [
        "import torch\n",
        "import torch.nn as nn\n",
        "import torch.optim as optim\n",
        "import zipfile\n",
        "import os\n",
        "from torchvision import datasets, transforms\n",
        "from torch.utils.data import DataLoader, Dataset\n",
        "from PIL import Image"
      ]
    },
    {
      "cell_type": "code",
      "source": [
        "!git clone https://github.com/Mvryo02/Plane-anomaly-detection-"
      ],
      "metadata": {
        "colab": {
          "base_uri": "https://localhost:8080/"
        },
        "id": "JdsNfFGH6R6s",
        "outputId": "10d7f6b1-a740-431c-f881-8e64e1f49a6b"
      },
      "execution_count": 2,
      "outputs": [
        {
          "output_type": "stream",
          "name": "stdout",
          "text": [
            "Cloning into 'Plane-anomaly-detection-'...\n",
            "remote: Enumerating objects: 583, done.\u001b[K\n",
            "remote: Counting objects: 100% (31/31), done.\u001b[K\n",
            "remote: Compressing objects: 100% (24/24), done.\u001b[K\n",
            "remote: Total 583 (delta 17), reused 18 (delta 5), pack-reused 552 (from 1)\u001b[K\n",
            "Receiving objects: 100% (583/583), 392.44 MiB | 13.91 MiB/s, done.\n",
            "Resolving deltas: 100% (34/34), done.\n",
            "Updating files: 100% (1119/1119), done.\n"
          ]
        }
      ]
    },
    {
      "cell_type": "markdown",
      "source": [
        "Transform definition"
      ],
      "metadata": {
        "id": "YA7DuY_n6U3R"
      }
    },
    {
      "cell_type": "code",
      "source": [
        "transform = transforms.Compose([\n",
        "    transforms.RandomHorizontalFlip(p=0.5),  # Flip orizzontale casuale\n",
        "    transforms.RandomRotation(15),           # Rotazione casuale di 15 gradi\n",
        "    transforms.ColorJitter(brightness=0.2, contrast=0.2, saturation=0.2, hue=0.1),  # Modifica casuale dei colori\n",
        "    transforms.ToTensor(),                    # Converte l'immagine in tensor\n",
        "    transforms.Normalize(mean=[0.485, 0.456, 0.406], std=[0.229, 0.224, 0.225])  # Normalizza l'immagine\n",
        "])"
      ],
      "metadata": {
        "id": "2lI1K_-H6TsV"
      },
      "execution_count": 3,
      "outputs": []
    },
    {
      "cell_type": "markdown",
      "source": [
        "Dataset Loading"
      ],
      "metadata": {
        "id": "6kJ0R4k26b0T"
      }
    },
    {
      "cell_type": "code",
      "source": [
        "os.chdir('/content/Plane-anomaly-detection-')\n",
        "dataset = datasets.ImageFolder(root='train', transform=transform)\n",
        "dataloader = DataLoader(dataset, batch_size=32, shuffle=True)\n",
        "num_elements = len(dataset)\n",
        "print(f\"Numero di immagini nel dataset: {num_elements}\")\n"
      ],
      "metadata": {
        "colab": {
          "base_uri": "https://localhost:8080/"
        },
        "id": "QIskYDmI6Y67",
        "outputId": "c775fffa-fa0a-4586-e1c7-388fa8fde019"
      },
      "execution_count": 4,
      "outputs": [
        {
          "output_type": "stream",
          "name": "stdout",
          "text": [
            "Numero di immagini nel dataset: 553\n"
          ]
        }
      ]
    },
    {
      "cell_type": "markdown",
      "source": [
        "Git commands"
      ],
      "metadata": {
        "id": "UnQyLLsn6jfK"
      }
    },
    {
      "cell_type": "code",
      "source": [
        "!git config --global user.email formato.2152143@studenti.uniroma1.it\n",
        "!git config --global user.name Mvryo02"
      ],
      "metadata": {
        "id": "e4ZEgT856al9"
      },
      "execution_count": 5,
      "outputs": []
    },
    {
      "cell_type": "code",
      "source": [],
      "metadata": {
        "id": "4m2tr6JK72R8"
      },
      "execution_count": null,
      "outputs": []
    },
    {
      "cell_type": "code",
      "source": [
        "!git status"
      ],
      "metadata": {
        "colab": {
          "base_uri": "https://localhost:8080/"
        },
        "id": "k709qqBR7YH3",
        "outputId": "9210c221-b7ed-497e-829b-b58f48822a8d"
      },
      "execution_count": 6,
      "outputs": [
        {
          "output_type": "stream",
          "name": "stdout",
          "text": [
            "On branch main\n",
            "Your branch is up to date with 'origin/main'.\n",
            "\n",
            "nothing to commit, working tree clean\n"
          ]
        }
      ]
    },
    {
      "cell_type": "code",
      "source": [
        "!git add Code1.ipynb"
      ],
      "metadata": {
        "colab": {
          "base_uri": "https://localhost:8080/"
        },
        "id": "svwkrMw67ZiN",
        "outputId": "68db5bfe-4b02-4d65-96f8-78f1dcd279a3"
      },
      "execution_count": 8,
      "outputs": [
        {
          "output_type": "stream",
          "name": "stdout",
          "text": [
            "fatal: pathspec 'Code1.ipynb' did not match any files\n"
          ]
        }
      ]
    },
    {
      "cell_type": "code",
      "source": [
        "!git commit -m \"commit\""
      ],
      "metadata": {
        "id": "ktQ_eUcl7a7P"
      },
      "execution_count": null,
      "outputs": []
    },
    {
      "cell_type": "code",
      "source": [
        "!git push origin main"
      ],
      "metadata": {
        "id": "CpkjgXlL7cV0"
      },
      "execution_count": null,
      "outputs": []
    }
  ]
}