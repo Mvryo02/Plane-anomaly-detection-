{
 "cells": [
  {
   "cell_type": "code",
   "execution_count": 1,
   "id": "38ba1934",
   "metadata": {
    "_cell_guid": "b1076dfc-b9ad-4769-8c92-a6c4dae69d19",
    "_uuid": "8f2839f25d086af736a60e9eeb907d3b93b6e0e5",
    "execution": {
     "iopub.execute_input": "2024-09-01T16:44:46.311867Z",
     "iopub.status.busy": "2024-09-01T16:44:46.311345Z",
     "iopub.status.idle": "2024-09-01T16:44:46.761584Z",
     "shell.execute_reply": "2024-09-01T16:44:46.760433Z"
    },
    "papermill": {
     "duration": 0.457184,
     "end_time": "2024-09-01T16:44:46.764371",
     "exception": false,
     "start_time": "2024-09-01T16:44:46.307187",
     "status": "completed"
    },
    "tags": []
   },
   "outputs": [],
   "source": [
    "# This Python 3 environment comes with many helpful analytics libraries installed\n",
    "# It is defined by the kaggle/python Docker image: https://github.com/kaggle/docker-python\n",
    "# For example, here's several helpful packages to load\n",
    "\n",
    "import numpy as np # linear algebra\n",
    "import pandas as pd # data processing, CSV file I/O (e.g. pd.read_csv)\n",
    "\n",
    "# Input data files are available in the read-only \"../input/\" directory\n",
    "# For example, running this (by clicking run or pressing Shift+Enter) will list all files under the input directory\n",
    "\n",
    "import os\n",
    "for dirname, _, filenames in os.walk('/kaggle/input'):\n",
    "    for filename in filenames:\n",
    "        print(os.path.join(dirname, filename))\n",
    "\n",
    "# You can write up to 20GB to the current directory (/kaggle/working/) that gets preserved as output when you create a version using \"Save & Run All\" \n",
    "# You can also write temporary files to /kaggle/temp/, but they won't be saved outside of the current session"
   ]
  },
  {
   "cell_type": "code",
   "execution_count": 2,
   "id": "34420472",
   "metadata": {
    "execution": {
     "iopub.execute_input": "2024-09-01T16:44:46.771006Z",
     "iopub.status.busy": "2024-09-01T16:44:46.770035Z",
     "iopub.status.idle": "2024-09-01T16:45:08.091811Z",
     "shell.execute_reply": "2024-09-01T16:45:08.090355Z"
    },
    "papermill": {
     "duration": 21.328087,
     "end_time": "2024-09-01T16:45:08.094754",
     "exception": false,
     "start_time": "2024-09-01T16:44:46.766667",
     "status": "completed"
    },
    "tags": []
   },
   "outputs": [
    {
     "name": "stdout",
     "output_type": "stream",
     "text": [
      "Cloning into 'Plane-anomaly-detection-'...\r\n",
      "fatal: unable to access 'https://github.com/Mvryo02/Plane-anomaly-detection-.git/': Could not resolve host: github.com\r\n"
     ]
    }
   ],
   "source": [
    "!git clone https://github.com/Mvryo02/Plane-anomaly-detection-.git"
   ]
  }
 ],
 "metadata": {
  "kaggle": {
   "accelerator": "none",
   "dataSources": [],
   "dockerImageVersionId": 30761,
   "isGpuEnabled": false,
   "isInternetEnabled": false,
   "language": "python",
   "sourceType": "notebook"
  },
  "kernelspec": {
   "display_name": "Python 3",
   "language": "python",
   "name": "python3"
  },
  "language_info": {
   "codemirror_mode": {
    "name": "ipython",
    "version": 3
   },
   "file_extension": ".py",
   "mimetype": "text/x-python",
   "name": "python",
   "nbconvert_exporter": "python",
   "pygments_lexer": "ipython3",
   "version": "3.10.14"
  },
  "papermill": {
   "default_parameters": {},
   "duration": 25.205104,
   "end_time": "2024-09-01T16:45:08.618452",
   "environment_variables": {},
   "exception": null,
   "input_path": "__notebook__.ipynb",
   "output_path": "__notebook__.ipynb",
   "parameters": {},
   "start_time": "2024-09-01T16:44:43.413348",
   "version": "2.6.0"
  }
 },
 "nbformat": 4,
 "nbformat_minor": 5
}
